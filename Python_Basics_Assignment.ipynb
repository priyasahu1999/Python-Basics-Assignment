{
  "nbformat": 4,
  "nbformat_minor": 0,
  "metadata": {
    "colab": {
      "provenance": []
    },
    "kernelspec": {
      "name": "python3",
      "display_name": "Python 3"
    },
    "language_info": {
      "name": "python"
    }
  },
  "cells": [
    {
      "cell_type": "markdown",
      "source": [
        "1. What is Python, and why is it popular\n",
        "  - Python is an interpreted, high-level programming language that is easy to read and simple to use. Python was developed by Guido van Rossum and initially released in 1991. Python has numerous applications for web development, data science, artificial intelligence, machine learning, automation, and scripting, among others.\n",
        "  - **Why is Python Popular?**\n",
        "    - Easy to Learn and Readable\n",
        "    - Versatile\n",
        "    - Large Community Support\n",
        "    - Extensive Libraries and Frameworks\n",
        "    - Cross-Platform Compatibility\n",
        "    - Automation & Scripting\n",
        "    - Strong in Data Science & AI"
      ],
      "metadata": {
        "id": "x1xidoyMEF4n"
      }
    },
    {
      "cell_type": "markdown",
      "source": [
        "2. What is an interpreter in Python\n",
        "  - An interpreter in Python is a program that executes Python code line by line rather than compiling the entire program at once. This allows for easy debugging and testing of code.\n"
      ],
      "metadata": {
        "id": "SfA6GnoEErbd"
      }
    },
    {
      "cell_type": "markdown",
      "source": [
        "3. What are pre-defined keywords in Python  \n",
        "  - Pre-defined keywords in Python are reserved words that have special meanings and cannot be used as variable names, function names, or identifiers. These keywords are used to define the syntax and structure of the Python language.\n",
        "\n"
      ],
      "metadata": {
        "id": "kefmHz-3E1dS"
      }
    },
    {
      "cell_type": "markdown",
      "source": [
        "4. Can keywords be used as variable names  \n",
        "  - No, Python keywords can't be used as variable names since they are reserved for particular functions in the language. Using a keyword as a variable name will raise a SyntaxError.\n",
        "  "
      ],
      "metadata": {
        "id": "AT9unfmoE-OT"
      }
    },
    {
      "cell_type": "markdown",
      "source": [
        "5. What is mutability in Python  \n",
        "  - Mutability in Python refers to whether an object can be modified after creation."
      ],
      "metadata": {
        "id": "a7BcAEPbFI9L"
      }
    },
    {
      "cell_type": "markdown",
      "source": [
        "6. Why are lists mutable, but tuples are immutable  \n",
        "  - The key difference between lists and tuples in Python is how they handle modifications after creation.\n",
        "   - Lists allow modifications like adding, removing, or changing elements.\n",
        "   - They are stored in memory as dynamic objects, meaning their size can change.\n",
        "   - Tuples do not allow modifications after creation.\n",
        "   - They are stored as fixed-sized objects in memory for efficiency."
      ],
      "metadata": {
        "id": "F1ktX4PHFYnf"
      }
    },
    {
      "cell_type": "markdown",
      "source": [
        "7. What is the difference between “==” and “is” operators in Python  \n",
        "  - ==\t(Equality operator)\n",
        "    - Compares the values of two objects.\n",
        "    - Returns True if the objects have the same value, False otherwise.\n",
        "  - is (Identity Operator):\n",
        "    - Checks if two variables refer to the same object in memory.\n",
        "    - Returns True if the variables point to the same object, False otherwise.\n",
        "\n",
        "  "
      ],
      "metadata": {
        "id": "8z9IDN1KFrDq"
      }
    },
    {
      "cell_type": "markdown",
      "source": [
        "8. What are logical operators in Python  \n",
        "  - Logical operators in Python are used to combine conditional statements. They return True or False based on logical conditions.\n",
        "\n"
      ],
      "metadata": {
        "id": "SkOxWklqGXOh"
      }
    },
    {
      "cell_type": "markdown",
      "source": [
        "9. What is type casting in Python  \n",
        "  - Type casting (also referred to as type conversion) is the conversion of one data type to another in Python.\n",
        "Python offers two categories of type casting:\n",
        "\n",
        "  - Implicit Type Casting (Python automatically converts)\n",
        "Explicit Type Casting (Data types are converted manually)\n",
        "\n"
      ],
      "metadata": {
        "id": "Ox6yZ1TOGdz3"
      }
    },
    {
      "cell_type": "markdown",
      "source": [
        "10. What is the difference between implicit and explicit type casting  \n",
        "  - Implicit type casting or widening conversion occurs automatically by the compiler when the conversion from a small data type to a larger one, while explicit type casting or narrowing conversion needs to be done manually by the programmer when there is a conversion from a large data type to a small one."
      ],
      "metadata": {
        "id": "DsbmATVHGtvC"
      }
    },
    {
      "cell_type": "markdown",
      "source": [
        "11. What is the purpose of conditional statements in Python  \n",
        " - Conditional statements direct the flow of a program by enabling, according to conditions, it can make decisions.\n",
        "\n",
        " - They assist Python in executing various blocks of code if a. condition is True or False."
      ],
      "metadata": {
        "id": "VmBv9xyeG9MS"
      }
    },
    {
      "cell_type": "markdown",
      "source": [
        "12. How does the elif statement work  \n",
        "  - The elif (an abbreviation of \"else if\") statement is called when there are several conditions to test in turn. It helps the program examine several cases and execute the initial block where the condition is satisfied and bypass the rest."
      ],
      "metadata": {
        "id": "2pPcuKXiHJmI"
      }
    },
    {
      "cell_type": "markdown",
      "source": [
        "13. What is the difference between for and while loops  \n",
        "  - The only difference between for and while loops is that for loops are employed when you already know the number of iterations, whereas while loops are employed when the number of iterations is based on a condition that might not be known in advance."
      ],
      "metadata": {
        "id": "Rh-qB8l6HSV4"
      }
    },
    {
      "cell_type": "markdown",
      "source": [
        "14. Describe a scenario where a while loop is more suitable than a for loop.\n",
        "  - A while loop is ideal when we don’t know in advance how many times the loop should run.\n",
        "\n"
      ],
      "metadata": {
        "id": "ryfFQgWxHf8a"
      }
    },
    {
      "cell_type": "markdown",
      "source": [
        "**Practical Questions**"
      ],
      "metadata": {
        "id": "PnJc2-26HoJ0"
      }
    },
    {
      "cell_type": "markdown",
      "source": [
        "1. Write a Python program to print \"Hello, World!y\n"
      ],
      "metadata": {
        "id": "Yb0XFkiJHp9s"
      }
    },
    {
      "cell_type": "code",
      "source": [
        "print(\"Hello, World!\")\n"
      ],
      "metadata": {
        "colab": {
          "base_uri": "https://localhost:8080/"
        },
        "id": "D5wysuVlHtDK",
        "outputId": "efac9413-ed9b-45ae-dee8-f6fffd1ba14d"
      },
      "execution_count": 1,
      "outputs": [
        {
          "output_type": "stream",
          "name": "stdout",
          "text": [
            "Hello, World!\n"
          ]
        }
      ]
    },
    {
      "cell_type": "markdown",
      "source": [
        "2. Write a Python program that displays your name and age8"
      ],
      "metadata": {
        "id": "lD5TClAYH1pC"
      }
    },
    {
      "cell_type": "code",
      "source": [
        "name = \"Priyanka Kumari\"\n",
        "age = 25\n",
        "\n",
        "print(\"My name is\", name)\n",
        "print(\"I am\", age, \"years old\")\n"
      ],
      "metadata": {
        "colab": {
          "base_uri": "https://localhost:8080/"
        },
        "id": "xjM378_sH2VZ",
        "outputId": "70d5a361-9c65-4668-d11c-88c22902f8b6"
      },
      "execution_count": 2,
      "outputs": [
        {
          "output_type": "stream",
          "name": "stdout",
          "text": [
            "My name is Priyanka Kumari\n",
            "I am 25 years old\n"
          ]
        }
      ]
    },
    {
      "cell_type": "markdown",
      "source": [
        "3. Write code to print all the pre-defined keywords in Python using the keyword library8"
      ],
      "metadata": {
        "id": "M_3DpZF1IAfI"
      }
    },
    {
      "cell_type": "code",
      "source": [
        "import keyword\n",
        "\n",
        "print(\"Python Keywords:\")\n",
        "print(keyword.kwlist)\n"
      ],
      "metadata": {
        "colab": {
          "base_uri": "https://localhost:8080/"
        },
        "id": "hF8J2cyzID6r",
        "outputId": "0410ffa0-c7a4-4f99-874d-bf5534ce4df3"
      },
      "execution_count": 3,
      "outputs": [
        {
          "output_type": "stream",
          "name": "stdout",
          "text": [
            "Python Keywords:\n",
            "['False', 'None', 'True', 'and', 'as', 'assert', 'async', 'await', 'break', 'class', 'continue', 'def', 'del', 'elif', 'else', 'except', 'finally', 'for', 'from', 'global', 'if', 'import', 'in', 'is', 'lambda', 'nonlocal', 'not', 'or', 'pass', 'raise', 'return', 'try', 'while', 'with', 'yield']\n"
          ]
        }
      ]
    },
    {
      "cell_type": "markdown",
      "source": [
        "4. Write a program that checks if a given word is a Python keyword."
      ],
      "metadata": {
        "id": "F636A_v_IJcH"
      }
    },
    {
      "cell_type": "code",
      "source": [
        "import keyword\n",
        "\n",
        "word = input(\"Enter a word: \")\n",
        "\n",
        "if keyword.iskeyword(word):\n",
        "    print(f\"'{word}' is a Python keyword.\")\n",
        "else:\n",
        "    print(f\"'{word}' is NOT a Python keyword.\")\n"
      ],
      "metadata": {
        "colab": {
          "base_uri": "https://localhost:8080/"
        },
        "id": "vZx6iR3ZIM9h",
        "outputId": "37e45e11-5343-4adf-c499-41b1f5c7a8c2"
      },
      "execution_count": 6,
      "outputs": [
        {
          "output_type": "stream",
          "name": "stdout",
          "text": [
            "Enter a word: while\n",
            "'while' is a Python keyword.\n"
          ]
        }
      ]
    },
    {
      "cell_type": "markdown",
      "source": [
        "5. Create a list and tuple in Python, and demonstrate how attempting to change an element works differently\n",
        "for each"
      ],
      "metadata": {
        "id": "eqC-Xgi6JMby"
      }
    },
    {
      "cell_type": "code",
      "source": [
        "my_list = [1, 2, 3, 4]\n",
        "print(\"Original List:\", my_list)\n",
        "\n",
        "my_list[1] = 99\n",
        "print(\"Modified List:\", my_list)\n",
        "\n",
        "my_tuple = (1, 2, 3, 4)\n",
        "print(\"\\nOriginal Tuple:\", my_tuple)\n",
        "\n",
        "try:\n",
        "    my_tuple[1] = 99\n",
        "except TypeError as e:\n",
        "    print(\"Error:\", e)\n"
      ],
      "metadata": {
        "colab": {
          "base_uri": "https://localhost:8080/"
        },
        "id": "8phlUPgHJP0d",
        "outputId": "d33294a7-d8c1-4585-e72b-d05e4512ef9a"
      },
      "execution_count": 7,
      "outputs": [
        {
          "output_type": "stream",
          "name": "stdout",
          "text": [
            "Original List: [1, 2, 3, 4]\n",
            "Modified List: [1, 99, 3, 4]\n",
            "\n",
            "Original Tuple: (1, 2, 3, 4)\n",
            "Error: 'tuple' object does not support item assignment\n"
          ]
        }
      ]
    },
    {
      "cell_type": "markdown",
      "source": [
        "6. Write a function to demonstrate the behavior of mutable and immutable arguments."
      ],
      "metadata": {
        "id": "kiqBy7ApJW8W"
      }
    },
    {
      "cell_type": "code",
      "source": [
        "def modify_values(immutable, mutable):\n",
        "    print(\"\\nInside Function:\")\n",
        "\n",
        "    immutable += 10\n",
        "    print(\"Immutable (Modified Inside):\", immutable)\n",
        "\n",
        "    mutable.append(99)\n",
        "    print(\"Mutable (Modified Inside):\", mutable)\n",
        "\n",
        "num = 5\n",
        "num_list = [1, 2, 3]\n",
        "\n",
        "print(\"Before Function Call:\")\n",
        "print(\"Immutable:\", num)\n",
        "print(\"Mutable:\", num_list)\n",
        "\n",
        "modify_values(num, num_list)\n",
        "\n",
        "print(\"\\nAfter Function Call:\")\n",
        "print(\"Immutable (Outside):\", num)\n",
        "print(\"Mutable (Outside):\", num_list)\n"
      ],
      "metadata": {
        "colab": {
          "base_uri": "https://localhost:8080/"
        },
        "id": "x5OtvHA6JcJQ",
        "outputId": "ae81db27-2ddb-496b-e179-38c01ecdf2b8"
      },
      "execution_count": 8,
      "outputs": [
        {
          "output_type": "stream",
          "name": "stdout",
          "text": [
            "Before Function Call:\n",
            "Immutable: 5\n",
            "Mutable: [1, 2, 3]\n",
            "\n",
            "Inside Function:\n",
            "Immutable (Modified Inside): 15\n",
            "Mutable (Modified Inside): [1, 2, 3, 99]\n",
            "\n",
            "After Function Call:\n",
            "Immutable (Outside): 5\n",
            "Mutable (Outside): [1, 2, 3, 99]\n"
          ]
        }
      ]
    },
    {
      "cell_type": "markdown",
      "source": [
        "7. Write a program that performs basic arithmetic operations on two user-input numbers."
      ],
      "metadata": {
        "id": "7Z7ZgVPCJjlD"
      }
    },
    {
      "cell_type": "code",
      "source": [
        "num1 = float(input(\"Enter first number: \"))\n",
        "num2 = float(input(\"Enter second number: \"))\n",
        "\n",
        "addition = num1 + num2\n",
        "subtraction = num1 - num2\n",
        "multiplication = num1 * num2\n",
        "\n",
        "if num2 != 0:\n",
        "    division = num1 / num2\n",
        "    modulus = num1 % num2\n",
        "else:\n",
        "    division = \"Undefined (division by zero)\"\n",
        "    modulus = \"Undefined (modulus by zero)\"\n",
        "\n",
        "print(\"\\nResults:\")\n",
        "print(f\"Addition: {num1} + {num2} = {addition}\")\n",
        "print(f\"Subtraction: {num1} - {num2} = {subtraction}\")\n",
        "print(f\"Multiplication: {num1} × {num2} = {multiplication}\")\n",
        "print(f\"Division: {num1} ÷ {num2} = {division}\")\n",
        "print(f\"Modulus: {num1} % {num2} = {modulus}\")\n"
      ],
      "metadata": {
        "colab": {
          "base_uri": "https://localhost:8080/"
        },
        "id": "RPrb9sebJnIL",
        "outputId": "5ab64a87-405e-48ce-9e63-5e7b97ea8b4c"
      },
      "execution_count": 9,
      "outputs": [
        {
          "output_type": "stream",
          "name": "stdout",
          "text": [
            "Enter first number: 10\n",
            "Enter second number: 5\n",
            "\n",
            "Results:\n",
            "Addition: 10.0 + 5.0 = 15.0\n",
            "Subtraction: 10.0 - 5.0 = 5.0\n",
            "Multiplication: 10.0 × 5.0 = 50.0\n",
            "Division: 10.0 ÷ 5.0 = 2.0\n",
            "Modulus: 10.0 % 5.0 = 0.0\n"
          ]
        }
      ]
    },
    {
      "cell_type": "markdown",
      "source": [
        "8. Write a program to demonstrate the use of logical operators.\n"
      ],
      "metadata": {
        "id": "ozRlnzzUJxWx"
      }
    },
    {
      "cell_type": "code",
      "source": [
        "a = int(input(\"Enter first number: \"))\n",
        "b = int(input(\"Enter second number: \"))\n",
        "\n",
        "print(\"\\nLogical Operators Demonstration:\")\n",
        "\n",
        "print(f\"({a} > 0 and {b} > 0) →\", (a > 0 and b > 0))\n",
        "\n",
        "print(f\"({a} > 0 or {b} > 0) →\", (a > 0 or b > 0))\n",
        "\n",
        "print(f\"not({a} > 0) →\", not (a > 0))\n"
      ],
      "metadata": {
        "colab": {
          "base_uri": "https://localhost:8080/"
        },
        "id": "9QS_g771Jy3C",
        "outputId": "e066d6fe-d263-4d99-8462-30f6916554c9"
      },
      "execution_count": 10,
      "outputs": [
        {
          "output_type": "stream",
          "name": "stdout",
          "text": [
            "Enter first number: 10\n",
            "Enter second number: 10\n",
            "\n",
            "Logical Operators Demonstration:\n",
            "(10 > 0 and 10 > 0) → True\n",
            "(10 > 0 or 10 > 0) → True\n",
            "not(10 > 0) → False\n"
          ]
        }
      ]
    },
    {
      "cell_type": "markdown",
      "source": [
        "9. Write a Python program to convert user input from string to integer, float, and boolean types."
      ],
      "metadata": {
        "id": "NEa5tg93J8p5"
      }
    },
    {
      "cell_type": "code",
      "source": [
        "user_input = input(\"Enter a value: \")\n",
        "\n",
        "try:\n",
        "    int_value = int(user_input)\n",
        "    print(f\"Integer: {int_value}\")\n",
        "except ValueError:\n",
        "    print(\"Cannot convert to Integer.\")\n",
        "\n",
        "try:\n",
        "    float_value = float(user_input)\n",
        "    print(f\"Float: {float_value}\")\n",
        "except ValueError:\n",
        "    print(\"Cannot convert to Float.\")\n",
        "\n",
        "bool_value = bool(user_input)\n",
        "print(f\"Boolean: {bool_value}\")\n"
      ],
      "metadata": {
        "colab": {
          "base_uri": "https://localhost:8080/"
        },
        "id": "J6iB7MXdJ98H",
        "outputId": "fa5be406-d592-48ab-a5c7-7d5c0dec3b04"
      },
      "execution_count": 11,
      "outputs": [
        {
          "output_type": "stream",
          "name": "stdout",
          "text": [
            "Enter a value: 42\n",
            "Integer: 42\n",
            "Float: 42.0\n",
            "Boolean: True\n"
          ]
        }
      ]
    },
    {
      "cell_type": "markdown",
      "source": [
        "10. Write code to demonstrate type casting with list elements."
      ],
      "metadata": {
        "id": "8NeyhqteKGgF"
      }
    },
    {
      "cell_type": "code",
      "source": [
        "str_list = [\"10\", \"20.5\", \"0\", \"hello\", \"\"]\n",
        "\n",
        "int_list = []\n",
        "for item in str_list:\n",
        "    try:\n",
        "        int_list.append(int(item))\n",
        "    except ValueError:\n",
        "        int_list.append(None)\n",
        "\n",
        "float_list = []\n",
        "for item in str_list:\n",
        "    try:\n",
        "        float_list.append(float(item))\n",
        "    except ValueError:\n",
        "        float_list.append(None)\n",
        "\n",
        "bool_list = [bool(item) for item in str_list]\n",
        "\n",
        "print(\"Original List:\", str_list)\n",
        "print(\"Integer Conversion:\", int_list)\n",
        "print(\"Float Conversion:\", float_list)\n",
        "print(\"Boolean Conversion:\", bool_list)\n"
      ],
      "metadata": {
        "colab": {
          "base_uri": "https://localhost:8080/"
        },
        "id": "r7GygiQTKHy9",
        "outputId": "5e8a4e25-3545-43d4-ad47-f3f02ffa41a4"
      },
      "execution_count": 12,
      "outputs": [
        {
          "output_type": "stream",
          "name": "stdout",
          "text": [
            "Original List: ['10', '20.5', '0', 'hello', '']\n",
            "Integer Conversion: [10, None, 0, None, None]\n",
            "Float Conversion: [10.0, 20.5, 0.0, None, None]\n",
            "Boolean Conversion: [True, True, True, True, False]\n"
          ]
        }
      ]
    },
    {
      "cell_type": "markdown",
      "source": [
        "11. Write a program that checks if a number is positive, negative, or zero."
      ],
      "metadata": {
        "id": "LpMzxO4LKPor"
      }
    },
    {
      "cell_type": "code",
      "source": [
        "num = float(input(\"Enter a number: \"))\n",
        "\n",
        "if num > 0:\n",
        "    print(\"The number is Positive.\")\n",
        "elif num < 0:\n",
        "    print(\"The number is Negative.\")\n",
        "else:\n",
        "    print(\"The number is Zero.\")\n"
      ],
      "metadata": {
        "colab": {
          "base_uri": "https://localhost:8080/"
        },
        "id": "1tKNdvPlKRL6",
        "outputId": "e2e28c8d-bd49-436d-9347-141ddc8dcf25"
      },
      "execution_count": 13,
      "outputs": [
        {
          "output_type": "stream",
          "name": "stdout",
          "text": [
            "Enter a number: 10\n",
            "The number is Positive.\n"
          ]
        }
      ]
    },
    {
      "cell_type": "markdown",
      "source": [
        "12. Write a for loop to print numbers from 1 to 10."
      ],
      "metadata": {
        "id": "ED5chidhKWu1"
      }
    },
    {
      "cell_type": "code",
      "source": [
        "for num in range(1, 11):\n",
        "    print(num)\n"
      ],
      "metadata": {
        "colab": {
          "base_uri": "https://localhost:8080/"
        },
        "id": "359d6NVZKZLm",
        "outputId": "6cf090c1-f53e-470d-bb04-f8421e1a7fc8"
      },
      "execution_count": 14,
      "outputs": [
        {
          "output_type": "stream",
          "name": "stdout",
          "text": [
            "1\n",
            "2\n",
            "3\n",
            "4\n",
            "5\n",
            "6\n",
            "7\n",
            "8\n",
            "9\n",
            "10\n"
          ]
        }
      ]
    },
    {
      "cell_type": "markdown",
      "source": [
        "13. Write a Python program to find the sum of all even numbers between 1 and 50."
      ],
      "metadata": {
        "id": "O_FsXSt9Kcmt"
      }
    },
    {
      "cell_type": "code",
      "source": [
        "sum_even = 0\n",
        "\n",
        "for num in range(2, 51, 2):\n",
        "    sum_even += num\n",
        "\n",
        "print(\"Sum of all even numbers between 1 and 50:\", sum_even)\n"
      ],
      "metadata": {
        "colab": {
          "base_uri": "https://localhost:8080/"
        },
        "id": "8mMW6MPeKdC_",
        "outputId": "5dc7e62d-1c27-457c-da08-54ca50a01cdd"
      },
      "execution_count": 15,
      "outputs": [
        {
          "output_type": "stream",
          "name": "stdout",
          "text": [
            "Sum of all even numbers between 1 and 50: 650\n"
          ]
        }
      ]
    },
    {
      "cell_type": "markdown",
      "source": [
        "14. Write a program to reverse a string using a while loop.\n"
      ],
      "metadata": {
        "id": "opxTPlVWKi5U"
      }
    },
    {
      "cell_type": "code",
      "source": [
        "text = input(\"Enter a string: \")\n",
        "\n",
        "reversed_text = \"\"\n",
        "index = len(text) - 1\n",
        "\n",
        "while index >= 0:\n",
        "    reversed_text += text[index]\n",
        "    index -= 1\n",
        "\n",
        "print(\"Reversed String:\", reversed_text)\n"
      ],
      "metadata": {
        "colab": {
          "base_uri": "https://localhost:8080/"
        },
        "id": "kPLM6jcnKk9F",
        "outputId": "d70610c1-9e40-47fa-cc92-406700ab2dc8"
      },
      "execution_count": 16,
      "outputs": [
        {
          "output_type": "stream",
          "name": "stdout",
          "text": [
            "Enter a string: hello\n",
            "Reversed String: olleh\n"
          ]
        }
      ]
    },
    {
      "cell_type": "markdown",
      "source": [
        "15. Write a Python program to calculate the factorial of a number provided by the user using a while loop."
      ],
      "metadata": {
        "id": "rL4u1M-hKyCV"
      }
    },
    {
      "cell_type": "code",
      "source": [
        "num = int(input(\"Enter a number: \"))\n",
        "\n",
        "factorial = 1\n",
        "i = num\n",
        "\n",
        "while i > 0:\n",
        "    factorial *= i\n",
        "    i -= 1\n",
        "\n",
        "print(f\"Factorial of {num} is: {factorial}\")\n"
      ],
      "metadata": {
        "colab": {
          "base_uri": "https://localhost:8080/"
        },
        "id": "5CsUaX_nKzmR",
        "outputId": "97790326-79ef-4641-ab93-94511d1d9c9c"
      },
      "execution_count": 17,
      "outputs": [
        {
          "output_type": "stream",
          "name": "stdout",
          "text": [
            "Enter a number: 5\n",
            "Factorial of 5 is: 120\n"
          ]
        }
      ]
    }
  ]
}